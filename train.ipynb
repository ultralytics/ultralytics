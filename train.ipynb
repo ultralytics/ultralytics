{
 "cells": [
  {
   "cell_type": "code",
   "execution_count": null,
   "id": "dc86e11f",
   "metadata": {},
   "outputs": [],
   "source": [
    "import os\n",
    "\n",
    "os.environ[\"CUBLAS_WORKSPACE_CONFIG\"] = \":4096:8\"\n",
    "\n",
    "import torch\n",
    "\n",
    "from ultralytics import YOLO\n",
    "\n",
    "# Check GPU availability\n",
    "if torch.cuda.is_available():\n",
    "    device = torch.device(\"cuda\")\n",
    "    print(f\"✅ Using GPU: {torch.cuda.get_device_name(0)}\")\n",
    "else:\n",
    "    device = torch.device(\"cpu\")\n",
    "    print(\"⚠️ GPU not available, using CPU instead.\")"
   ]
  },
  {
   "cell_type": "code",
   "execution_count": null,
   "id": "fb8beab5",
   "metadata": {},
   "outputs": [],
   "source": [
    "print(torch.__version__)\n",
    "print(torch.version.cuda)\n",
    "print(torch.cuda.is_available())"
   ]
  },
  {
   "cell_type": "code",
   "execution_count": null,
   "id": "6f3a3f26",
   "metadata": {},
   "outputs": [],
   "source": [
    "import os\n",
    "\n",
    "# Force all caches to F drive\n",
    "os.environ[\"TORCH_HOME\"] = \"F:/caches/torch\"\n",
    "os.environ[\"HF_HOME\"] = \"F:/caches/huggingface\"\n",
    "os.environ[\"PIP_CACHE_DIR\"] = \"F:/caches/pip\"\n",
    "\n",
    "# Make sure folders exist\n",
    "for path in [os.environ[\"TORCH_HOME\"], os.environ[\"HF_HOME\"], os.environ[\"PIP_CACHE_DIR\"]]:\n",
    "    os.makedirs(path, exist_ok=True)\n",
    "\n",
    "print(\"✅ Using custom cache directories:\")\n",
    "print(\"TORCH_HOME:\", os.environ[\"TORCH_HOME\"])\n",
    "print(\"HF_HOME:\", os.environ[\"HF_HOME\"])\n",
    "print(\"PIP_CACHE_DIR:\", os.environ[\"PIP_CACHE_DIR\"])"
   ]
  },
  {
   "cell_type": "code",
   "execution_count": null,
   "id": "8eae3b57",
   "metadata": {},
   "outputs": [],
   "source": [
    "# Train Vanilla Yolov8n model\n",
    "import os\n",
    "\n",
    "# Pick up environment variable or default\n",
    "project_dir = os.getenv(\"YOLO_OUTPUT\", \"/media/james/Lexar/YOLO_outputs\")\n",
    "\n",
    "model = YOLO(\"ultralytics/cfg/models/v8/yolov8n.yaml\")\n",
    "\n",
    "results = model.train(\n",
    "    data=\"real_100data_linux.yaml\",\n",
    "    project=project_dir,\n",
    "    name=\"yolov8-vanilla\",\n",
    "    epochs=300,\n",
    "    patience=50,\n",
    "    imgsz=640,\n",
    "    batch=16,\n",
    ")\n",
    "\n",
    "print(f\"✅ Training completed. Check {project_dir}/100%_yolov8n for results.\")"
   ]
  }
 ],
 "metadata": {
  "language_info": {
   "name": "python"
  }
 },
 "nbformat": 4,
 "nbformat_minor": 5
}
